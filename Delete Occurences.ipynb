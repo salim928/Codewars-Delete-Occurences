{
 "cells": [
  {
   "cell_type": "code",
   "execution_count": null,
   "id": "7e4e06f9",
   "metadata": {},
   "outputs": [],
   "source": [
    "def delete_nth(order,max_e):\n",
    "    x=[]\n",
    "    [x.append(i) for i in order if x.count(i) < max_e]\n",
    "    return x\n",
    "\n",
    "    \n",
    "#another method\n",
    "def delete_nth(order,max_e):\n",
    "    x = []\n",
    "    for i in order:\n",
    "        if x.count(i) < max_e:\n",
    "            x.append(i)\n",
    "    return x"
   ]
  }
 ],
 "metadata": {
  "kernelspec": {
   "display_name": "Python 3 (ipykernel)",
   "language": "python",
   "name": "python3"
  },
  "language_info": {
   "codemirror_mode": {
    "name": "ipython",
    "version": 3
   },
   "file_extension": ".py",
   "mimetype": "text/x-python",
   "name": "python",
   "nbconvert_exporter": "python",
   "pygments_lexer": "ipython3",
   "version": "3.9.7"
  }
 },
 "nbformat": 4,
 "nbformat_minor": 5
}
